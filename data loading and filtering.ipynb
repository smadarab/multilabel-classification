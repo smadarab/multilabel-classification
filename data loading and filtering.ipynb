{
 "cells": [
  {
   "cell_type": "code",
   "execution_count": 1,
   "metadata": {},
   "outputs": [],
   "source": [
    "import pandas as pd"
   ]
  },
  {
   "cell_type": "code",
   "execution_count": 5,
   "metadata": {},
   "outputs": [],
   "source": [
    "df1 = pd.read_csv(r\"C:\\Users\\sm185567\\Downloads\\bug data\\1_100.csv\")"
   ]
  },
  {
   "cell_type": "code",
   "execution_count": 6,
   "metadata": {},
   "outputs": [],
   "source": [
    "df2 = pd.read_csv(r\"C:\\Users\\sm185567\\Downloads\\bug data\\1000_2000.csv\")"
   ]
  },
  {
   "cell_type": "code",
   "execution_count": 7,
   "metadata": {},
   "outputs": [],
   "source": [
    "df3 = pd.read_csv(r\"C:\\Users\\sm185567\\Downloads\\bug data\\2000_3000.csv\")"
   ]
  },
  {
   "cell_type": "code",
   "execution_count": 9,
   "metadata": {},
   "outputs": [],
   "source": [
    "df4 = pd.read_csv(r\"C:\\Users\\sm185567\\Downloads\\bug data\\3000-4000.csv\")"
   ]
  },
  {
   "cell_type": "code",
   "execution_count": 10,
   "metadata": {},
   "outputs": [],
   "source": [
    "df5 = pd.read_csv(r\"C:\\Users\\sm185567\\Downloads\\bug data\\4000-5000.csv\")"
   ]
  },
  {
   "cell_type": "code",
   "execution_count": 11,
   "metadata": {},
   "outputs": [],
   "source": [
    "frames = [df1,df2,df3,df4,df5]"
   ]
  },
  {
   "cell_type": "code",
   "execution_count": 13,
   "metadata": {},
   "outputs": [],
   "source": [
    "result = pd.concat(frames,sort=False)"
   ]
  },
  {
   "cell_type": "code",
   "execution_count": 18,
   "metadata": {},
   "outputs": [],
   "source": [
    "result.to_csv(r\"C:\\Users\\sm185567\\Downloads\\bug data\\datasettosubmit.csv\")"
   ]
  },
  {
   "cell_type": "code",
   "execution_count": 62,
   "metadata": {},
   "outputs": [],
   "source": [
    "hi = pd.read_csv(r\"C:\\Users\\sm185567\\Downloads\\bug data\\datasettosubmit.csv\",low_memory=False)"
   ]
  },
  {
   "cell_type": "code",
   "execution_count": 63,
   "metadata": {},
   "outputs": [],
   "source": [
    "hi = hi.drop(['Unnamed: 0'],axis=1)"
   ]
  },
  {
   "cell_type": "code",
   "execution_count": 64,
   "metadata": {},
   "outputs": [],
   "source": [
    "hi = hi.drop(['Comment.40',\n",
    " 'Comment.41',\n",
    " 'Labels.7',\n",
    " 'Comment.42',\n",
    " 'Comment.43',\n",
    " 'Comment.44',\n",
    " 'Comment.45',\n",
    " 'Comment.46',\n",
    " 'Comment.47',\n",
    " 'Comment.48',\n",
    " 'Comment.49',\n",
    " 'Comment.50',\n",
    " 'Comment.51',\n",
    " 'Comment.52',\n",
    " 'Comment.53',\n",
    " 'Comment.54',\n",
    " 'Comment.55',\n",
    " 'Comment.56',\n",
    " 'Comment.57',\n",
    " 'Comment.58',\n",
    " 'Comment.59',\n",
    " 'Comment.60',\n",
    " 'Comment.61',\n",
    " 'Comment.62',\n",
    " 'Comment.63',\n",
    " 'Comment.64',\n",
    " 'Comment.65',\n",
    " 'Comment.66',\n",
    " 'Comment.67',\n",
    " 'Comment.68',\n",
    " 'Comment.69',\n",
    " 'Comment.70',\n",
    " 'Comment.71',\n",
    " 'Comment.72',\n",
    " 'Comment.73',\n",
    " 'Comment.74',\n",
    " 'Comment.75',\n",
    " 'Comment.76',\n",
    " 'Comment.77',\n",
    " 'Comment.78',\n",
    " 'Comment.79',\n",
    " 'Comment.80',\n",
    " 'Comment.81',\n",
    " 'Comment.82',\n",
    " 'Comment.83',\n",
    " 'Comment.84',\n",
    " 'Comment.85',\n",
    " 'Comment.86',\n",
    " 'Comment.87',\n",
    " 'Comment.88',\n",
    " 'Comment.89',\n",
    " 'Comment.90',\n",
    " 'Comment.91',\n",
    " 'Comment.92',\n",
    " 'Comment.93',\n",
    " 'Comment.94',\n",
    " 'Comment.95',\n",
    " 'Comment.96'],axis=1)"
   ]
  },
  {
   "cell_type": "code",
   "execution_count": 65,
   "metadata": {},
   "outputs": [],
   "source": [
    "hi = hi.drop(\n",
    "[\n",
    " 'Affects Version/s.1',\n",
    " 'Affects Version/s.2',\n",
    " 'Affects Version/s.3',\n",
    " 'Affects Version/s.4',\n",
    " 'Affects Version/s.5',\n",
    " 'Affects Version/s.6',\n",
    " 'Affects Version/s.7',\n",
    " 'Affects Version/s.8',\n",
    " 'Affects Version/s.9',\n",
    " 'Affects Version/s.10',\n",
    " 'Affects Version/s.11',\n",
    " 'Affects Version/s.12',\n",
    " 'Affects Version/s.13',\n",
    " 'Affects Version/s.14',\n",
    " 'Affects Version/s.15',\n",
    " 'Affects Version/s.16',\n",
    " 'Affects Version/s.17',\n",
    " 'Affects Version/s.18',\n",
    " 'Affects Version/s.19',\n",
    " 'Affects Version/s.20',\n",
    " 'Affects Version/s.21',\n",
    " 'Affects Version/s.22',\n",
    " 'Affects Version/s.23',\n",
    " 'Fix Version/s.1',\n",
    " 'Fix Version/s.2',\n",
    " 'Fix Version/s.3',\n",
    "'Outward issue link (Depend).1',\n",
    " 'Outward issue link (Depend).2',\n",
    " 'Outward issue link (Relate).4',\n",
    " 'Outward issue link (Relate).5',\n",
    " 'Outward issue link (Relate).6',\n",
    "'Comment.1',\n",
    " 'Comment.2',\n",
    " 'Comment.3',\n",
    " 'Comment.4',\n",
    " 'Comment.5',\n",
    " 'Comment.6',\n",
    " 'Comment.7',\n",
    " 'Comment.8',\n",
    " 'Comment.9',\n",
    " 'Comment.10',\n",
    " 'Comment.11',\n",
    " 'Comment.12',\n",
    " 'Comment.13',\n",
    " 'Comment.14',\n",
    " 'Comment.15',\n",
    " 'Comment.16',\n",
    " 'Comment.17',\n",
    " 'Comment.18',\n",
    " 'Comment.19',\n",
    " 'Comment.20',\n",
    " 'Comment.21',\n",
    " 'Comment.22',\n",
    " 'Comment.23',\n",
    " 'Comment.24',\n",
    " 'Comment.25',\n",
    " 'Comment.26',\n",
    " 'Comment.27',\n",
    " 'Comment.28',\n",
    " 'Comment.29',\n",
    " 'Comment.30',\n",
    " 'Comment.31',\n",
    " 'Comment.32'],axis=1)"
   ]
  },
  {
   "cell_type": "code",
   "execution_count": 66,
   "metadata": {},
   "outputs": [],
   "source": [
    "hi = hi.drop(['Comment.33',\n",
    " 'Comment.34',\n",
    " 'Comment.35',\n",
    " 'Comment.36',\n",
    " 'Comment.37',\n",
    " 'Comment.38',\n",
    " 'Comment.39','Sprint.1',\n",
    " 'Sprint.2',\n",
    " 'Sprint.3',\n",
    " 'Sprint.4',\n",
    " 'Sprint.5',\n",
    " 'Sprint.6',\n",
    " 'Sprint.7',\n",
    " 'Sprint.8',\n",
    " 'Sprint.9',\n",
    " 'Sprint.10',\n",
    " 'Sprint.11',\n",
    " 'Sprint.12',\n",
    " 'Sprint.13',\n",
    " 'Sprint.14',\n",
    " 'Sprint.15',\n",
    " 'Sprint.16',\n",
    " 'Sprint.17',\n",
    " 'Sprint.18','Attachment.1',\n",
    " 'Attachment.2',\n",
    " 'Attachment.3',\n",
    " 'Attachment.4',\n",
    " 'Attachment.5',\n",
    " 'Attachment.6',\n",
    " 'Attachment.7'],axis=1)"
   ]
  },
  {
   "cell_type": "code",
   "execution_count": 67,
   "metadata": {},
   "outputs": [],
   "source": [
    "hi = hi.drop(['Component/s.1',\n",
    " 'Component/s.2',\n",
    " 'Component/s.3','Labels.1',\n",
    " 'Labels.2',\n",
    " 'Labels.3',\n",
    " 'Labels.4',\n",
    " 'Labels.5',\n",
    " 'Labels.6','Log Work.1',\n",
    " 'Log Work.2','Attachment.8','Attachment.9',\n",
    " 'Attachment.10','Attachment.11', 'Outward issue link (Relate).1',\n",
    " 'Outward issue link (Relate).2',\n",
    " 'Outward issue link (Relate).3'],axis=1)"
   ]
  },
  {
   "cell_type": "code",
   "execution_count": 70,
   "metadata": {},
   "outputs": [],
   "source": [
    "hi = hi.drop(['Outward issue link (Depends).1', 'Outward issue link (Related).1','Outward issue link (Duplicate).1',\n",
    "             \n",
    "             'Outward issue link (Cloners)' ,'Fix Version/s.4','Custom field (Virtual Machine)','Custom field (Story Points)','Sprint','Custom field (Spring Forum Reference)',\n",
    "'Custom field (Reference URL)','Custom field (Pull Request URL)','Custom field (Platform)','Custom field (Out of Scope)','Custom field (Epic Link)','Custom field (Actual Story Points)',\n",
    "'Custom field (Acceptance Criteria)','Attachment',\n",
    "'Environment',\n",
    "'Log Work'    ,\n",
    "'Original Estimate',\n",
    "'Remaining Estimate',\n",
    "'Time Spent',\n",
    "'Work Ratio' ,                                \n",
    "'Σ Original Estimate',                        \n",
    "'Σ Remaining Estimate',                       \n",
    "'Σ Time Spent'         ,                      \n",
    "'Security Level'        ,                     \n",
    "'Outward issue link (Depend)',                \n",
    "'Outward issue link (Depends)'    ,           \n",
    "'Outward issue link (Duplicate)'   ,          \n",
    "'Outward issue link (Relate)'       ,         \n",
    "        \n",
    "'Outward issue link (Supersede)'\n",
    "             ],axis=1)"
   ]
  },
  {
   "cell_type": "code",
   "execution_count": 75,
   "metadata": {},
   "outputs": [
    {
     "name": "stdout",
     "output_type": "stream",
     "text": [
      "<class 'pandas.core.frame.DataFrame'>\n",
      "RangeIndex: 4313 entries, 0 to 4312\n",
      "Data columns (total 33 columns):\n",
      "Summary                                    4240 non-null object\n",
      "Issue key                                  4240 non-null object\n",
      "Issue id                                   4240 non-null float64\n",
      "Issue Type                                 4240 non-null object\n",
      "Status                                     4240 non-null object\n",
      "Project key                                4240 non-null object\n",
      "Project name                               4240 non-null object\n",
      "Project type                               4240 non-null object\n",
      "Project lead                               4240 non-null object\n",
      "Project description                        3577 non-null object\n",
      "Project url                                4114 non-null object\n",
      "Priority                                   4216 non-null object\n",
      "Resolution                                 3997 non-null object\n",
      "Assignee                                   3968 non-null object\n",
      "Reporter                                   4240 non-null object\n",
      "Creator                                    4240 non-null object\n",
      "Created                                    4240 non-null object\n",
      "Updated                                    4240 non-null object\n",
      "Last Viewed                                4240 non-null object\n",
      "Resolved                                   3997 non-null object\n",
      "Affects Version/s                          3695 non-null object\n",
      "Component/s                                3263 non-null object\n",
      "Votes                                      4240 non-null float64\n",
      "Description                                4187 non-null object\n",
      "Custom field (Days since last comment)     4213 non-null float64\n",
      "Custom field (First Response Date)         3943 non-null object\n",
      "Custom field (Global Rank)                 4213 non-null float64\n",
      "Custom field (Last commented by a User)    4213 non-null object\n",
      "Custom field (Last updater)                4212 non-null object\n",
      "Custom field (Rank)                        4213 non-null object\n",
      "Custom field (Rank (Obsolete))             4213 non-null float64\n",
      "Custom field (Ranking)                     4213 non-null float64\n",
      "Comment                                    4155 non-null object\n",
      "dtypes: float64(6), object(27)\n",
      "memory usage: 1.1+ MB\n"
     ]
    }
   ],
   "source": [
    "hi.info()"
   ]
  },
  {
   "cell_type": "code",
   "execution_count": 74,
   "metadata": {},
   "outputs": [],
   "source": [
    "hi = hi.drop(['Due Date','Labels','Outward issue link (Related)','Fix Version/s'],axis=1)      "
   ]
  },
  {
   "cell_type": "code",
   "execution_count": null,
   "metadata": {},
   "outputs": [],
   "source": []
  },
  {
   "cell_type": "code",
   "execution_count": 76,
   "metadata": {},
   "outputs": [],
   "source": [
    "hi.to_csv(r\"C:\\Users\\sm185567\\Downloads\\bug data\\datasettosubmit.csv\")"
   ]
  },
  {
   "cell_type": "code",
   "execution_count": 1,
   "metadata": {},
   "outputs": [],
   "source": [
    "import nltk"
   ]
  },
  {
   "cell_type": "code",
   "execution_count": 2,
   "metadata": {},
   "outputs": [
    {
     "data": {
      "text/plain": [
       "'3.4.5'"
      ]
     },
     "execution_count": 2,
     "metadata": {},
     "output_type": "execute_result"
    }
   ],
   "source": [
    " nltk. __version__ "
   ]
  },
  {
   "cell_type": "code",
   "execution_count": 3,
   "metadata": {},
   "outputs": [],
   "source": [
    "import scipy"
   ]
  },
  {
   "cell_type": "code",
   "execution_count": 4,
   "metadata": {},
   "outputs": [
    {
     "data": {
      "text/plain": [
       "'1.4.1'"
      ]
     },
     "execution_count": 4,
     "metadata": {},
     "output_type": "execute_result"
    }
   ],
   "source": [
    " scipy. __version__ "
   ]
  },
  {
   "cell_type": "code",
   "execution_count": 1,
   "metadata": {},
   "outputs": [
    {
     "name": "stdout",
     "output_type": "stream",
     "text": [
      "0.8.0\n"
     ]
    }
   ],
   "source": [
    "\t\n",
    "# check version number\n",
    "import imblearn\n",
    "print(imblearn.__version__)"
   ]
  },
  {
   "cell_type": "code",
   "execution_count": 2,
   "metadata": {},
   "outputs": [
    {
     "ename": "AttributeError",
     "evalue": "module 'skmultilearn' has no attribute '__version__'",
     "output_type": "error",
     "traceback": [
      "\u001b[1;31m---------------------------------------------------------------------------\u001b[0m",
      "\u001b[1;31mAttributeError\u001b[0m                            Traceback (most recent call last)",
      "\u001b[1;32m<ipython-input-2-dd66538e8c06>\u001b[0m in \u001b[0;36m<module>\u001b[1;34m\u001b[0m\n\u001b[0;32m      1\u001b[0m \u001b[1;32mimport\u001b[0m \u001b[0mskmultilearn\u001b[0m\u001b[1;33m\u001b[0m\u001b[1;33m\u001b[0m\u001b[0m\n\u001b[1;32m----> 2\u001b[1;33m \u001b[0mprint\u001b[0m\u001b[1;33m(\u001b[0m\u001b[0mskmultilearn\u001b[0m\u001b[1;33m.\u001b[0m\u001b[0m__version__\u001b[0m\u001b[1;33m)\u001b[0m\u001b[1;33m\u001b[0m\u001b[1;33m\u001b[0m\u001b[0m\n\u001b[0m",
      "\u001b[1;31mAttributeError\u001b[0m: module 'skmultilearn' has no attribute '__version__'"
     ]
    }
   ],
   "source": [
    "import skmultilearn\n",
    "print(skmultilearn.__version__)"
   ]
  },
  {
   "cell_type": "code",
   "execution_count": 3,
   "metadata": {},
   "outputs": [
    {
     "name": "stdout",
     "output_type": "stream",
     "text": [
      "0.24.1\n"
     ]
    }
   ],
   "source": [
    "import sklearn\n",
    "print(sklearn.__version__)"
   ]
  },
  {
   "cell_type": "code",
   "execution_count": 4,
   "metadata": {},
   "outputs": [
    {
     "name": "stdout",
     "output_type": "stream",
     "text": [
      "3.3.2\n"
     ]
    }
   ],
   "source": [
    "import matplotlib\n",
    "print(matplotlib.__version__)"
   ]
  },
  {
   "cell_type": "code",
   "execution_count": null,
   "metadata": {},
   "outputs": [],
   "source": []
  }
 ],
 "metadata": {
  "kernelspec": {
   "display_name": "Python 3.7.4 64-bit ('base': conda)",
   "language": "python",
   "name": "python37464bitbasecondaea93298ad34b4164b12094db0c35890f"
  },
  "language_info": {
   "codemirror_mode": {
    "name": "ipython",
    "version": 3
   },
   "file_extension": ".py",
   "mimetype": "text/x-python",
   "name": "python",
   "nbconvert_exporter": "python",
   "pygments_lexer": "ipython3",
   "version": "3.7.4"
  }
 },
 "nbformat": 4,
 "nbformat_minor": 4
}
